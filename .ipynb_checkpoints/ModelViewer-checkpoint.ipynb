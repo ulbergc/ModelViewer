{
 "cells": [
  {
   "cell_type": "code",
   "execution_count": null,
   "metadata": {},
   "outputs": [],
   "source": [
    "# Code for viewing 3d velocity models in Google Earth/Google maps\n",
    "# There is a c version of this (by Bob Crosson) that is called in the buildkmz shell script like so:\n",
    "# for pos in `seq -w $zstart $zinc $zend `\n",
    "# do\n",
    "# ./conv_map_kml $overlaydesc $utmzone $lonorg $latorg $nxnodes $nynodes $nznodes $nodesp $zinc $pos $boxwestcorr $boxeastcorr $boxnorthcorr $boxsouthcorr >>struct_model.kml\n",
    "# done\n",
    "\n"
   ]
  },
  {
   "cell_type": "code",
   "execution_count": 52,
   "metadata": {},
   "outputs": [],
   "source": [
    "import utm # from https://pypi.org/project/utm/\n",
    "import numpy as np\n",
    "import pandas as pd\n",
    "import sys\n",
    "\n",
    "# USAGE:\n",
    "# utm.from_latlon(LATITUDE, LONGITUDE)\n",
    "# (EASTING, NORTHING, ZONE NUMBER, ZONE LETTER)\n",
    "# utm.to_latlon(EASTING, NORTHING, ZONE NUMBER, ZONE LETTER)\n",
    "# (LATITUDE, LONGITUDE)\n",
    "\n",
    "# functions that need to be defined\n",
    "# InitLocalUTM(lonorig,latorig,zone)\n",
    "# ToLocalUTM(lon,lat,x,y)\n",
    "# FromLocalUTM(x,y,lon,lat)\n",
    "Xorig=0\n",
    "Yorig=0\n",
    "zoneNum=0\n",
    "zoneLet=''\n",
    "\n",
    "def InitLocalUTM(lonorig,latorig):\n",
    "    (xorig,yorig,ZN,ZL)=utm.from_latlon(latorig,lonorig)\n",
    "#     print(Xorig)\n",
    "    return (xorig,yorig,ZN,ZL)\n",
    "\n",
    "def ToLocalUTM(lon,lat):\n",
    "    (x,y,ZN,ZL)=utm.from_latlon(lat,lon)\n",
    "    X=(x-Xorig)/1000\n",
    "    Y=(y-Yorig)/1000\n",
    "    return (X,Y)\n",
    "\n",
    "def FromLocalUTM(x,y):\n",
    "    X=x*1000\n",
    "    Y=y*1000\n",
    "    (LAT,LON)=utm.to_latlon(X+Xorig,Y+Yorig,zoneNum,zoneLet)\n",
    "    return (LON,LAT)\n",
    "\n",
    "# (Xorig,Yorig,zoneNum,zoneLet)=InitLocalUTM(-123,46)\n",
    "\n",
    "desc=sys.argv[1] # descriptive string\n",
    "zone=sys.argv[2] # zone for utm (int)\n",
    "lonorg=sys.argv[3] # longitude origin\n",
    "latorg=sys.argv[4] # latitude origin\n",
    "nxnodes=sys.argv[5] # number of model x nodes\n",
    "nynodes=sys.argv[6] # number of model y nodes\n",
    "nznodes=sys.argv[7] # number of model z nodes\n",
    "nodesp=sys.argv[8] # dist (km) between nodes\n",
    "zinc=sys.argv[9] # vertical spacing between panels to display (km)\n",
    "pos=sys.argv[10] # position of current panel\n",
    "boxwestcorr=sys.argv[11] # corr (decimal km) for west margin of final fig\n",
    "boxeastcorr=sys.argv[12] # corr (decimal km) for east margin of final fig\n",
    "boxnorthcorr=sys.argv[13] # corr (decimal km) for north margin of final fig\n",
    "boxsouthcorr=sys.argv[14] # corr (decimal km) for south margin of final fig\n",
    "\n",
    "posi=pos*10 # integerized position - for slider\n",
    "posii=(pos+zinc)*10 # pos of next panel\n",
    "\n",
    "# initialize coord transforms to local structure model\n",
    "(Xorig,Yorig,zoneNum,zoneLet)=InitLocalUTM(lonorg,latorg)\n",
    "\n",
    "# get model dimensions in km\n",
    "modelnorth=nodesp*(nynodes-1) # or just nynodes?\n",
    "modeleast=nodesp*(nxnodes-1)\n",
    "\n",
    "# compute bounds of current panel as lat/lon values\n",
    "(lon,lat)=FromLocalUTM(modeleast/2,modelnorth+boxnorthcorr)\n",
    "boxnorth=lat\n",
    "\n",
    "(lon,lat)=FromLocalUTM(modeleast/2,boxsouthcorr)\n",
    "boxsouth=lat\n",
    "    \n",
    "(lon,lat)=FromLocalUTM(boxwestcorr,modelnorth/2)\n",
    "boxwest=lon\n",
    "        \n",
    "(lon,lat)=FromLocalUTM(modeleast+boxeastcorr,modelnorth/2)\n",
    "boxeast=lon\n",
    "\n",
    "# print out the ground overlay kml code\n",
    "print(\"    <GroundOverlay>\\n\");\n",
    "print(\"        <name>{:s}</name>\\n\".format(desc));\n",
    "print(\"        <TimeSpan>\\n\");\n",
    "print(\"            <begin>{:5d}</begin>\\n\".format(posi));\n",
    "print(\"            <end>{:5d}</end>\\n\".format(posii));\n",
    "print(\"        </TimeSpan>\\n\");\n",
    "print(\"        <Icon>\\n\");\n",
    "print(\"            <href>Overlays/0{:05.1f}.gif</href>\\n\".format(pos));\n",
    "print(\"        </Icon>\\n\");\n",
    "print(\"        <LatLonBox>\\n\");\n",
    "print(\"            <north>{:f}</north>\\n\".format(boxnorth));\n",
    "print(\"            <south>{:f}</south>\\n\".format(boxsouth));\n",
    "print(\"            <east>{:f}</east>\\n\".format(boxeast));\n",
    "print(\"            <west>{:f}</west>\\n\".format(boxwest));\n",
    "print(\"        </LatLonBox>\\n\");\n",
    "print(\"    </GroundOverlay>\\n\");\n",
    "print(\"\\n\");\n",
    "\n"
   ]
  },
  {
   "cell_type": "code",
   "execution_count": 53,
   "metadata": {},
   "outputs": [
    {
     "data": {
      "text/plain": [
       "(-122.9740018678868, 46.35999943888518)"
      ]
     },
     "execution_count": 53,
     "metadata": {},
     "output_type": "execute_result"
    }
   ],
   "source": [
    "FromLocalUTM(2,40)"
   ]
  },
  {
   "cell_type": "code",
   "execution_count": null,
   "metadata": {},
   "outputs": [],
   "source": []
  },
  {
   "cell_type": "code",
   "execution_count": null,
   "metadata": {},
   "outputs": [],
   "source": []
  },
  {
   "cell_type": "code",
   "execution_count": null,
   "metadata": {},
   "outputs": [],
   "source": []
  }
 ],
 "metadata": {
  "kernelspec": {
   "display_name": "Python 3",
   "language": "python",
   "name": "python3"
  },
  "language_info": {
   "codemirror_mode": {
    "name": "ipython",
    "version": 3
   },
   "file_extension": ".py",
   "mimetype": "text/x-python",
   "name": "python",
   "nbconvert_exporter": "python",
   "pygments_lexer": "ipython3",
   "version": "3.6.5"
  }
 },
 "nbformat": 4,
 "nbformat_minor": 2
}
