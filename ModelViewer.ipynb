{
 "cells": [
  {
   "cell_type": "markdown",
   "metadata": {},
   "source": [
    "Code for viewing 3d velocity models in Google Earth/Google maps\n",
    "There is a c version of this (by Bob Crosson) that is called in the buildkmz shell script like so:\n",
    "for pos in `seq -w $zstart $zinc $zend `\n",
    "do\n",
    "./conv_map_kml $overlaydesc $utmzone $lonorg $latorg $nxnodes $nynodes $nznodes $nodesp $zinc $pos $boxwestcorr $boxeastcorr $boxnorthcorr $boxsouthcorr >>struct_model.kml\n",
    "done"
   ]
  },
  {
   "cell_type": "code",
   "execution_count": 52,
   "metadata": {},
   "outputs": [],
   "source": [
    "import utm # from https://pypi.org/project/utm/\n",
    "import numpy as np\n",
    "import pandas as pd\n",
    "\n",
    "# USAGE:\n",
    "# utm.from_latlon(LATITUDE, LONGITUDE)\n",
    "# (EASTING, NORTHING, ZONE NUMBER, ZONE LETTER)\n",
    "# utm.to_latlon(EASTING, NORTHING, ZONE NUMBER, ZONE LETTER)\n",
    "# (LATITUDE, LONGITUDE)\n",
    "\n",
    "# functions that need to be defined\n",
    "# InitLocalUTM(lonorig,latorig,zone)\n",
    "# ToLocalUTM(lon,lat,x,y)\n",
    "# FromLocalUTM(x,y,lon,lat)\n",
    "Xorig=0\n",
    "Yorig=0\n",
    "zoneNum=0\n",
    "zoneLet=''\n",
    "\n",
    "def InitLocalUTM(lonorig,latorig):\n",
    "    (xorig,yorig,ZN,ZL)=utm.from_latlon(latorig,lonorig)\n",
    "#     print(Xorig)\n",
    "    return (xorig,yorig,ZN,ZL)\n",
    "\n",
    "def ToLocalUTM(lon,lat):\n",
    "    (x,y,ZN,ZL)=utm.from_latlon(lat,lon)\n",
    "    X=(x-Xorig)/1000\n",
    "    Y=(y-Yorig)/1000\n",
    "    return (X,Y)\n",
    "\n",
    "def FromLocalUTM(x,y):\n",
    "    X=x*1000\n",
    "    Y=y*1000\n",
    "    (LAT,LON)=utm.to_latlon(X+Xorig,Y+Yorig,zoneNum,zoneLet)\n",
    "    return (LON,LAT)\n",
    "\n",
    "(Xorig,Yorig,zoneNum,zoneLet)=InitLocalUTM(-123,46)\n",
    "\n"
   ]
  },
  {
   "cell_type": "code",
   "execution_count": 53,
   "metadata": {},
   "outputs": [
    {
     "data": {
      "text/plain": [
       "(-122.9740018678868, 46.35999943888518)"
      ]
     },
     "execution_count": 53,
     "metadata": {},
     "output_type": "execute_result"
    }
   ],
   "source": [
    "FromLocalUTM(2,40)"
   ]
  },
  {
   "cell_type": "code",
   "execution_count": null,
   "metadata": {},
   "outputs": [],
   "source": []
  },
  {
   "cell_type": "code",
   "execution_count": null,
   "metadata": {},
   "outputs": [],
   "source": []
  },
  {
   "cell_type": "code",
   "execution_count": null,
   "metadata": {},
   "outputs": [],
   "source": []
  }
 ],
 "metadata": {
  "kernelspec": {
   "display_name": "Python 3",
   "language": "python",
   "name": "python3"
  },
  "language_info": {
   "codemirror_mode": {
    "name": "ipython",
    "version": 3
   },
   "file_extension": ".py",
   "mimetype": "text/x-python",
   "name": "python",
   "nbconvert_exporter": "python",
   "pygments_lexer": "ipython3",
   "version": "3.6.5"
  }
 },
 "nbformat": 4,
 "nbformat_minor": 2
}
